{
 "cells": [
  {
   "cell_type": "code",
   "execution_count": null,
   "metadata": {},
   "outputs": [],
   "source": [
    "import pydeck"
   ]
  },
  {
   "cell_type": "code",
   "execution_count": null,
   "metadata": {},
   "outputs": [],
   "source": [
    "pydeck.settings.custom_libraries = [\n",
    "    {\n",
    "        \"libraryName\": \"LabeledGeoJsonLayerLibrary\",\n",
    "        \"resourceUri\": \"https://unpkg.com/pydeck-lasso-layer/dist/bundle.js\",\n",
    "    }\n",
    "]"
   ]
  },
  {
   "cell_type": "code",
   "execution_count": null,
   "metadata": {},
   "outputs": [],
   "source": [
    "DATA_URL = \"https://raw.githubusercontent.com/johan/world.geo.json/master/countries.geo.json\"\n",
    "\n",
    "custom_layer = pydeck.Layer(\n",
    "    \"LabeledGeoJsonLayer\",\n",
    "    data=DATA_URL,\n",
    "    filled=False,\n",
    "    billboard=False,\n",
    "    get_line_color=[180, 180, 180],\n",
    "    get_label=\"properties.name\",\n",
    "    get_label_size=200000,\n",
    "    get_label_color=[0, 255, 255],\n",
    "    label_size_units='\"meters\"',\n",
    "    line_width_min_pixels=1,\n",
    ")\n",
    "\n",
    "view_state = pydeck.ViewState(latitude=0, longitude=0, zoom=1)\n",
    "\n",
    "r = pydeck.Deck(custom_layer, initial_view_state=view_state, map_provider=None)\n",
    "\n",
    "r.to_html(\"custom_layer.html\", css_background_color=\"#333\")"
   ]
  },
  {
   "cell_type": "code",
   "execution_count": null,
   "metadata": {},
   "outputs": [],
   "source": []
  }
 ],
 "metadata": {
  "kernelspec": {
   "display_name": "Python 3",
   "language": "python",
   "name": "python3"
  },
  "language_info": {
   "codemirror_mode": {
    "name": "ipython",
    "version": 3
   },
   "file_extension": ".py",
   "mimetype": "text/x-python",
   "name": "python",
   "nbconvert_exporter": "python",
   "pygments_lexer": "ipython3",
   "version": "3.6.6"
  }
 },
 "nbformat": 4,
 "nbformat_minor": 2
}
